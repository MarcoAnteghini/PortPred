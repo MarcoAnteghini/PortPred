{
 "cells": [
  {
   "cell_type": "code",
   "execution_count": 1,
   "id": "d83ad709-a2c2-4fb3-8239-c1e4f34a32bd",
   "metadata": {},
   "outputs": [],
   "source": [
    "from Bio import SeqIO\n",
    "from tqdm.notebook import tqdm as tqdm\n",
    "import numpy as np\n",
    "import portpred as pp\n",
    "import pandas as pd"
   ]
  },
  {
   "cell_type": "markdown",
   "id": "ea9dde05-9ac7-4046-8749-dcb94b56e2f6",
   "metadata": {},
   "source": [
    "### How to generate embeddings\n",
    "#### The next cells shows how to generate the embeddings used in the PortPred paper."
   ]
  },
  {
   "cell_type": "code",
   "execution_count": 31,
   "id": "af5b1b5c-e8c7-4b5d-a2c6-550c23fb9729",
   "metadata": {},
   "outputs": [],
   "source": [
    "data = pp.load_data('Transp_eg.fasta')"
   ]
  },
  {
   "cell_type": "code",
   "execution_count": 30,
   "id": "bad8aea0-78a8-4e5d-9eed-53dd4dd06a2d",
   "metadata": {},
   "outputs": [],
   "source": [
    "#pip install update bio-embeddings[all]\n",
    "#from bio_embeddings.embed import ESM1bEmbedder,ProtTransBertBFDEmbedder\n",
    "from bio_embeddings.embed import SeqVecEmbedder,UniRepEmbedder"
   ]
  },
  {
   "cell_type": "code",
   "execution_count": 32,
   "id": "ad927800-444f-40c2-9c45-3abec3257730",
   "metadata": {},
   "outputs": [],
   "source": [
    "embedder = SeqVecEmbedder()"
   ]
  },
  {
   "cell_type": "code",
   "execution_count": 36,
   "id": "664a2b24-fd06-4e91-a6c7-fe912f549b46",
   "metadata": {},
   "outputs": [],
   "source": [
    "def reduce_per_protein(embedding):\n",
    "    return embedding.sum(0).mean(0)"
   ]
  },
  {
   "cell_type": "code",
   "execution_count": 33,
   "id": "54aeb930-5f70-492c-9482-625f3e1f0daf",
   "metadata": {},
   "outputs": [
    {
     "data": {
      "application/vnd.jupyter.widget-view+json": {
       "model_id": "b831ddf20fb24aac8fb6501791c966da",
       "version_major": 2,
       "version_minor": 0
      },
      "text/plain": [
       "  0%|          | 0/5 [00:00<?, ?it/s]"
      ]
     },
     "metadata": {},
     "output_type": "display_data"
    }
   ],
   "source": [
    "for k,v in tqdm(data.items()):\n",
    "    emb=embedder.embed(v)\n",
    "    emb=reduce_per_protein(emb)\n",
    "    np.save(k,emb)"
   ]
  },
  {
   "cell_type": "code",
   "execution_count": 34,
   "id": "be84a52c-2496-4a7e-9581-b29ddbb6ac48",
   "metadata": {},
   "outputs": [],
   "source": [
    "seqvec_dict,seqvec_emb=pp.load_embedding('seqvec','seqvec/',dictio=True)"
   ]
  },
  {
   "cell_type": "code",
   "execution_count": 35,
   "id": "737a2d0f-465d-41eb-b086-513e22f89e78",
   "metadata": {},
   "outputs": [],
   "source": [
    "seqvec_emb=np.concatenate(seqvec_emb)"
   ]
  },
  {
   "cell_type": "code",
   "execution_count": 37,
   "id": "1e4819f7-f093-41e4-bed6-a5a07bd7b250",
   "metadata": {},
   "outputs": [],
   "source": [
    "# TO GENERATE OTHER EMBEDDINGS UNCOMMENT\n",
    "#embedder_esm1b = ESM1bEmbedder()\n",
    "#embedder_unirep = UniRepEmbedder()\n",
    "#embedder_protbert = ProtTransBertBFDEmbedder()"
   ]
  },
  {
   "cell_type": "markdown",
   "id": "235d40bd-fd7d-4f8b-8a0a-35693db6b536",
   "metadata": {},
   "source": [
    "## PortPred Tool"
   ]
  },
  {
   "cell_type": "code",
   "execution_count": 38,
   "id": "e4e62714-6dce-4edf-b7af-bc542f5f6f96",
   "metadata": {},
   "outputs": [],
   "source": [
    "##Uplad the data set\n",
    "protbert_dict_val,protbert_emb_val=pp.load_embedding('protbert','pero_trans/pero_trans/pero_trans_fasta_protbert/',dictio=True)\n",
    "esmb1_dict_val,esmb1_emb_val=pp.load_embedding('esmb1','pero_trans/pero_trans/pero_trans_fasta_esm1b/',dictio=True)\n",
    "seqvec_dict_val,seqvec_emb_val=pp.load_embedding('seqvec','pero_trans/pero_trans/pero_trans_fasta_seqvec/',dictio=True)\n",
    "unirep_dict_val,unirep_emb_val=pp.load_unirep_embedding('pero_trans/pero_trans/pero_trans_fasta_unirep/',dictio=True)"
   ]
  },
  {
   "cell_type": "code",
   "execution_count": 39,
   "id": "1ae3ff3b-9e40-4fed-9f59-5a48bf85d5ed",
   "metadata": {},
   "outputs": [],
   "source": [
    "full_dict,full_emb=pp.concatenate_embeddings(protbert_dict_val,esmb1_dict_val,\\\n",
    "                       seqvec_dict_val,unirep_dict_val)"
   ]
  },
  {
   "cell_type": "code",
   "execution_count": 43,
   "id": "634c9889-5544-4d64-bcbe-bb4de672c62f",
   "metadata": {},
   "outputs": [],
   "source": [
    "def predict_transporter(X,model='HFE',classification='all',output='PortPred_results.csv'):\n",
    "    #model HFE, SeqVec\n",
    "    if model=='HFE':\n",
    "        m = np.load('binary_classification_LR_hybrid_features_model.sav', allow_pickle=True)\n",
    "        df=pd.DataFrame(X.values())\n",
    "        df=df[pp.col_list_b]\n",
    "        pred=m.predict_proba(df)\n",
    "        pred_col,pred_k=[],[]\n",
    "        for p,k in zip(pred,X.keys()):\n",
    "            pred_col.append(p[1])\n",
    "            #print(pred_col)\n",
    "            pred_k.append(k)\n",
    "        df_results=pd.DataFrame(pred_k,columns=['protein_ID'])\n",
    "        df_results.insert(len(df_results.columns),'probability',pred_col)\n",
    "        df_results.loc[df_results['probability'] >= 0.5, 'transporter'] = 'True'\n",
    "        df_results.loc[df_results['probability'] < 0.5, 'transporter'] = 'False'\n",
    "        df_results.to_csv(output)\n",
    "    # if  model=='SeqVec':\n",
    "    #     m = np.load('seqvec_model.sav', allow_pickle=True)\n",
    "    #     df=pd.DataFrame(X.values())\n",
    "    #     pred=m.predict_proba(df)\n",
    "    #     pred_col,pred_k=[],[]\n",
    "    #     for p,k in zip(pred,X.keys()):\n",
    "    #         pred_col.append(p[1])\n",
    "    #         #print(pred_col)\n",
    "    #         pred_k.append(k)\n",
    "    #     df_results=pd.DataFrame(pred_k,columns=['protein_ID'])\n",
    "    #     df_results.insert(len(df_results.columns),'probability',pred_col)\n",
    "    #     df_results.loc[df_results['probability'] >= 0.5, 'transporter'] = 'True'\n",
    "    #     df_results.loc[df_results['probability'] < 0.5, 'transporter'] = 'False'\n",
    "    #     df_results.to_csv(output)\n",
    "        return df_results\n",
    "        "
   ]
  },
  {
   "cell_type": "code",
   "execution_count": 44,
   "id": "c0e70370-32ce-42f0-9837-f38ebdce2b92",
   "metadata": {},
   "outputs": [],
   "source": [
    "df_results=predict_transporter(full_dict)"
   ]
  },
  {
   "cell_type": "code",
   "execution_count": 45,
   "id": "1b5b74de-0466-4f00-a21c-94d4bbdb24f0",
   "metadata": {},
   "outputs": [
    {
     "data": {
      "text/html": [
       "<div>\n",
       "<style scoped>\n",
       "    .dataframe tbody tr th:only-of-type {\n",
       "        vertical-align: middle;\n",
       "    }\n",
       "\n",
       "    .dataframe tbody tr th {\n",
       "        vertical-align: top;\n",
       "    }\n",
       "\n",
       "    .dataframe thead th {\n",
       "        text-align: right;\n",
       "    }\n",
       "</style>\n",
       "<table border=\"1\" class=\"dataframe\">\n",
       "  <thead>\n",
       "    <tr style=\"text-align: right;\">\n",
       "      <th></th>\n",
       "      <th>protein_ID</th>\n",
       "      <th>probability</th>\n",
       "      <th>transporter</th>\n",
       "    </tr>\n",
       "  </thead>\n",
       "  <tbody>\n",
       "    <tr>\n",
       "      <th>0</th>\n",
       "      <td>Q19951</td>\n",
       "      <td>0.649573</td>\n",
       "      <td>True</td>\n",
       "    </tr>\n",
       "    <tr>\n",
       "      <th>1</th>\n",
       "      <td>P18163</td>\n",
       "      <td>0.716822</td>\n",
       "      <td>True</td>\n",
       "    </tr>\n",
       "    <tr>\n",
       "      <th>2</th>\n",
       "      <td>P28288</td>\n",
       "      <td>0.997350</td>\n",
       "      <td>True</td>\n",
       "    </tr>\n",
       "    <tr>\n",
       "      <th>3</th>\n",
       "      <td>Q54MD1</td>\n",
       "      <td>0.905490</td>\n",
       "      <td>True</td>\n",
       "    </tr>\n",
       "    <tr>\n",
       "      <th>4</th>\n",
       "      <td>P38225</td>\n",
       "      <td>0.107356</td>\n",
       "      <td>False</td>\n",
       "    </tr>\n",
       "    <tr>\n",
       "      <th>...</th>\n",
       "      <td>...</td>\n",
       "      <td>...</td>\n",
       "      <td>...</td>\n",
       "    </tr>\n",
       "    <tr>\n",
       "      <th>162</th>\n",
       "      <td>Q9NP80</td>\n",
       "      <td>0.093685</td>\n",
       "      <td>False</td>\n",
       "    </tr>\n",
       "    <tr>\n",
       "      <th>163</th>\n",
       "      <td>Q9QXY9</td>\n",
       "      <td>0.110972</td>\n",
       "      <td>False</td>\n",
       "    </tr>\n",
       "    <tr>\n",
       "      <th>164</th>\n",
       "      <td>Q9ET67</td>\n",
       "      <td>0.477149</td>\n",
       "      <td>False</td>\n",
       "    </tr>\n",
       "    <tr>\n",
       "      <th>165</th>\n",
       "      <td>P55096</td>\n",
       "      <td>0.995768</td>\n",
       "      <td>True</td>\n",
       "    </tr>\n",
       "    <tr>\n",
       "      <th>166</th>\n",
       "      <td>O94516</td>\n",
       "      <td>0.035916</td>\n",
       "      <td>False</td>\n",
       "    </tr>\n",
       "  </tbody>\n",
       "</table>\n",
       "<p>167 rows × 3 columns</p>\n",
       "</div>"
      ],
      "text/plain": [
       "    protein_ID  probability transporter\n",
       "0       Q19951     0.649573        True\n",
       "1       P18163     0.716822        True\n",
       "2       P28288     0.997350        True\n",
       "3       Q54MD1     0.905490        True\n",
       "4       P38225     0.107356       False\n",
       "..         ...          ...         ...\n",
       "162     Q9NP80     0.093685       False\n",
       "163     Q9QXY9     0.110972       False\n",
       "164     Q9ET67     0.477149       False\n",
       "165     P55096     0.995768        True\n",
       "166     O94516     0.035916       False\n",
       "\n",
       "[167 rows x 3 columns]"
      ]
     },
     "execution_count": 45,
     "metadata": {},
     "output_type": "execute_result"
    }
   ],
   "source": [
    "df_results"
   ]
  },
  {
   "cell_type": "code",
   "execution_count": null,
   "id": "50a2231a-c834-410e-9d09-146151d33971",
   "metadata": {},
   "outputs": [],
   "source": []
  }
 ],
 "metadata": {
  "kernelspec": {
   "display_name": "portpredtool",
   "language": "python",
   "name": "portpredtool"
  },
  "language_info": {
   "codemirror_mode": {
    "name": "ipython",
    "version": 3
   },
   "file_extension": ".py",
   "mimetype": "text/x-python",
   "name": "python",
   "nbconvert_exporter": "python",
   "pygments_lexer": "ipython3",
   "version": "3.7.16"
  }
 },
 "nbformat": 4,
 "nbformat_minor": 5
}
